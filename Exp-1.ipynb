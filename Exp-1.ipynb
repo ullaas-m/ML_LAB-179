{
 "cells": [
  {
   "cell_type": "markdown",
   "metadata": {},
   "source": [
    "# MEAN\n"
   ]
  },
  {
   "cell_type": "code",
   "execution_count": 77,
   "metadata": {},
   "outputs": [
    {
     "name": "stdout",
     "output_type": "stream",
     "text": [
      "MEAN: 121.24000000000001\n"
     ]
    }
   ],
   "source": [
    "#mean\n",
    "def mean(list):\n",
    "    \n",
    "    sum=0\n",
    "    for i in list:\n",
    "        sum=sum+i\n",
    "\n",
    "    mean=sum/len(list)\n",
    "    return mean\n",
    "list = [115.3,195.5,120.5,110.2,90.4,105.6,110.9,116.3,122.3,125.4]\n",
    "print(\"MEAN:\",mean(list))"
   ]
  },
  {
   "cell_type": "markdown",
   "metadata": {},
   "source": [
    "# MEDIAN"
   ]
  },
  {
   "cell_type": "code",
   "execution_count": 40,
   "metadata": {},
   "outputs": [
    {
     "data": {
      "text/plain": [
       "105.6"
      ]
     },
     "execution_count": 40,
     "metadata": {},
     "output_type": "execute_result"
    }
   ],
   "source": [
    "#median\n",
    "\n",
    "l1 = [115.3,195.5,120.5,110.2,90.4,105.6,110.9,116.3,122.3,125.4]\n",
    "i=int(len(l1)/2)\n",
    "if i%2==0:\n",
    "    res=(l1[i]+l1[i+1])/2\n",
    "else:\n",
    "    res=l1[i]\n",
    "res"
   ]
  },
  {
   "cell_type": "markdown",
   "metadata": {},
   "source": [
    "# MODE"
   ]
  },
  {
   "cell_type": "code",
   "execution_count": 76,
   "metadata": {},
   "outputs": [
    {
     "name": "stdout",
     "output_type": "stream",
     "text": [
      "MODE: 115.3\n"
     ]
    }
   ],
   "source": [
    "#mode\n",
    "l1 = [115.3,195.5,120.5,110.2,90.4,105.6,110.9,116.3,122.3,125.4]\n",
    "d={}\n",
    "for i in l1:\n",
    "    if i in d:\n",
    "        d[i]=d[i]+1\n",
    "    else:\n",
    "        d[i]=1\n",
    "maxi=0\n",
    "for i in d:\n",
    "    if(d[i]>maxi):\n",
    "        maxi=d[i]\n",
    "        ans=i\n",
    "print(\"MODE:\",ans)"
   ]
  },
  {
   "cell_type": "markdown",
   "metadata": {},
   "source": [
    "# VARIANCE"
   ]
  },
  {
   "cell_type": "code",
   "execution_count": 70,
   "metadata": {},
   "outputs": [
    {
     "name": "stdout",
     "output_type": "stream",
     "text": [
      "VARANCE:  878.230255102041\n"
     ]
    }
   ],
   "source": [
    "def vari(l):\n",
    "    ans = mean(l)\n",
    "    \n",
    "    sum1=0\n",
    "    for i in l:\n",
    "        sum1+=(ans-i)**2\n",
    "\n",
    "    return sum1/len(l)   \n",
    "l = [115.3, 195.5, 120, 110.2, 90, 105.6, 110.9,120,195.5,115.3, 116.3, 122.3, 125.4,120]\n",
    "print(\"VARANCE: \",vari(l))"
   ]
  },
  {
   "cell_type": "markdown",
   "metadata": {},
   "source": [
    "# STANDARD DEVIATION"
   ]
  },
  {
   "cell_type": "code",
   "execution_count": 73,
   "metadata": {},
   "outputs": [
    {
     "name": "stdout",
     "output_type": "stream",
     "text": [
      "STANDARD DEVIATION:  29.634949892011644\n"
     ]
    }
   ],
   "source": [
    "def sd(l):\n",
    "    temp = vari(l)\n",
    "    return temp**0.5\n",
    "\n",
    "\n",
    "\n",
    "a = [115.3, 195.5, 120, 110.2, 90, 105.6, 110.9,120,195.5,115.3, 116.3, 122.3, 125.4,120]\n",
    "print(\"STANDARD DEVIATION: \",sd(a))"
   ]
  },
  {
   "cell_type": "markdown",
   "metadata": {},
   "source": [
    "# MEDIAN"
   ]
  },
  {
   "cell_type": "code",
   "execution_count": 74,
   "metadata": {},
   "outputs": [
    {
     "name": "stdout",
     "output_type": "stream",
     "text": [
      "MEDIAN: 105.6\n"
     ]
    }
   ],
   "source": [
    "#median\n",
    "def median(l1):\n",
    "    i=int(len(l1)/2)\n",
    "    if i%2==0:\n",
    "        res=(l1[i]+l1[i+1])/2\n",
    "    else:\n",
    "        res=l1[i]\n",
    "    return res\n",
    "\n",
    "l1 = [115.3,195.5,120.5,110.2,90.4,105.6,110.9,116.3,122.3,125.4]\n",
    "print(\"MEDIAN:\",median(l1))\n",
    "    \n",
    "\n",
    "\n"
   ]
  },
  {
   "cell_type": "code",
   "execution_count": null,
   "metadata": {},
   "outputs": [],
   "source": []
  }
 ],
 "metadata": {
  "kernelspec": {
   "display_name": "Python 3",
   "language": "python",
   "name": "python3"
  },
  "language_info": {
   "codemirror_mode": {
    "name": "ipython",
    "version": 3
   },
   "file_extension": ".py",
   "mimetype": "text/x-python",
   "name": "python",
   "nbconvert_exporter": "python",
   "pygments_lexer": "ipython3",
   "version": "3.8.10"
  }
 },
 "nbformat": 4,
 "nbformat_minor": 4
}
