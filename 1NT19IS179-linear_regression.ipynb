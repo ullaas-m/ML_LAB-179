{
 "cells": [
  {
   "cell_type": "code",
   "execution_count": 1,
   "id": "56b24564",
   "metadata": {},
   "outputs": [],
   "source": [
    "import pandas as pd\n",
    "import matplotlib.pyplot as plt"
   ]
  },
  {
   "cell_type": "code",
   "execution_count": 23,
   "id": "be208117",
   "metadata": {},
   "outputs": [
    {
     "data": {
      "text/html": [
       "<div>\n",
       "<style scoped>\n",
       "    .dataframe tbody tr th:only-of-type {\n",
       "        vertical-align: middle;\n",
       "    }\n",
       "\n",
       "    .dataframe tbody tr th {\n",
       "        vertical-align: top;\n",
       "    }\n",
       "\n",
       "    .dataframe thead th {\n",
       "        text-align: right;\n",
       "    }\n",
       "</style>\n",
       "<table border=\"1\" class=\"dataframe\">\n",
       "  <thead>\n",
       "    <tr style=\"text-align: right;\">\n",
       "      <th></th>\n",
       "      <th>hours</th>\n",
       "      <th>scores</th>\n",
       "    </tr>\n",
       "  </thead>\n",
       "  <tbody>\n",
       "    <tr>\n",
       "      <th>0</th>\n",
       "      <td>10</td>\n",
       "      <td>40</td>\n",
       "    </tr>\n",
       "    <tr>\n",
       "      <th>1</th>\n",
       "      <td>20</td>\n",
       "      <td>50</td>\n",
       "    </tr>\n",
       "    <tr>\n",
       "      <th>2</th>\n",
       "      <td>30</td>\n",
       "      <td>70</td>\n",
       "    </tr>\n",
       "    <tr>\n",
       "      <th>3</th>\n",
       "      <td>40</td>\n",
       "      <td>80</td>\n",
       "    </tr>\n",
       "    <tr>\n",
       "      <th>4</th>\n",
       "      <td>50</td>\n",
       "      <td>90</td>\n",
       "    </tr>\n",
       "    <tr>\n",
       "      <th>5</th>\n",
       "      <td>15</td>\n",
       "      <td>35</td>\n",
       "    </tr>\n",
       "    <tr>\n",
       "      <th>6</th>\n",
       "      <td>22</td>\n",
       "      <td>12</td>\n",
       "    </tr>\n",
       "    <tr>\n",
       "      <th>7</th>\n",
       "      <td>24</td>\n",
       "      <td>57</td>\n",
       "    </tr>\n",
       "    <tr>\n",
       "      <th>8</th>\n",
       "      <td>35</td>\n",
       "      <td>80</td>\n",
       "    </tr>\n",
       "  </tbody>\n",
       "</table>\n",
       "</div>"
      ],
      "text/plain": [
       "   hours  scores\n",
       "0     10      40\n",
       "1     20      50\n",
       "2     30      70\n",
       "3     40      80\n",
       "4     50      90\n",
       "5     15      35\n",
       "6     22      12\n",
       "7     24      57\n",
       "8     35      80"
      ]
     },
     "execution_count": 23,
     "metadata": {},
     "output_type": "execute_result"
    }
   ],
   "source": [
    "df = pd.read_csv(\"/home/root1/ullaas.csv\")\n",
    "df\n"
   ]
  },
  {
   "cell_type": "code",
   "execution_count": 24,
   "id": "8f9d40f7",
   "metadata": {},
   "outputs": [
    {
     "data": {
      "image/png": "[encoded data removed]",
      "text/plain": [
       "<Figure size 432x288 with 1 Axes>"
      ]
     },
     "metadata": {
      "needs_background": "light"
     },
     "output_type": "display_data"
    }
   ],
   "source": [
    "df.plot(x=\"hours\" , y=\"scores\" , style=\"o\")\n",
    "plt.show()"
   ]
  },
  {
   "cell_type": "code",
   "execution_count": 25,
   "id": "b0cb6e46",
   "metadata": {},
   "outputs": [
    {
     "name": "stdout",
     "output_type": "stream",
     "text": [
      "27.333333333333332 57.111111111111114\n"
     ]
    }
   ],
   "source": [
    "x_mean = df[\"hours\"].mean()\n",
    "y_mean = df[\"scores\"].mean()\n",
    "print(x_mean , y_mean)\n"
   ]
  },
  {
   "cell_type": "code",
   "execution_count": 26,
   "id": "a83894e3",
   "metadata": {},
   "outputs": [
    {
     "data": {
      "text/html": [
       "<div>\n",
       "<style scoped>\n",
       "    .dataframe tbody tr th:only-of-type {\n",
       "        vertical-align: middle;\n",
       "    }\n",
       "\n",
       "    .dataframe tbody tr th {\n",
       "        vertical-align: top;\n",
       "    }\n",
       "\n",
       "    .dataframe thead th {\n",
       "        text-align: right;\n",
       "    }\n",
       "</style>\n",
       "<table border=\"1\" class=\"dataframe\">\n",
       "  <thead>\n",
       "    <tr style=\"text-align: right;\">\n",
       "      <th></th>\n",
       "      <th>hours</th>\n",
       "      <th>scores</th>\n",
       "      <th>x</th>\n",
       "      <th>y</th>\n",
       "      <th>x*y</th>\n",
       "      <th>x^2</th>\n",
       "      <th>y^2</th>\n",
       "    </tr>\n",
       "  </thead>\n",
       "  <tbody>\n",
       "    <tr>\n",
       "      <th>0</th>\n",
       "      <td>10</td>\n",
       "      <td>40</td>\n",
       "      <td>-17.333333</td>\n",
       "      <td>-17.111111</td>\n",
       "      <td>296.592593</td>\n",
       "      <td>300.444444</td>\n",
       "      <td>292.790123</td>\n",
       "    </tr>\n",
       "    <tr>\n",
       "      <th>1</th>\n",
       "      <td>20</td>\n",
       "      <td>50</td>\n",
       "      <td>-7.333333</td>\n",
       "      <td>-7.111111</td>\n",
       "      <td>52.148148</td>\n",
       "      <td>53.777778</td>\n",
       "      <td>50.567901</td>\n",
       "    </tr>\n",
       "    <tr>\n",
       "      <th>2</th>\n",
       "      <td>30</td>\n",
       "      <td>70</td>\n",
       "      <td>2.666667</td>\n",
       "      <td>12.888889</td>\n",
       "      <td>34.370370</td>\n",
       "      <td>7.111111</td>\n",
       "      <td>166.123457</td>\n",
       "    </tr>\n",
       "    <tr>\n",
       "      <th>3</th>\n",
       "      <td>40</td>\n",
       "      <td>80</td>\n",
       "      <td>12.666667</td>\n",
       "      <td>22.888889</td>\n",
       "      <td>289.925926</td>\n",
       "      <td>160.444444</td>\n",
       "      <td>523.901235</td>\n",
       "    </tr>\n",
       "    <tr>\n",
       "      <th>4</th>\n",
       "      <td>50</td>\n",
       "      <td>90</td>\n",
       "      <td>22.666667</td>\n",
       "      <td>32.888889</td>\n",
       "      <td>745.481481</td>\n",
       "      <td>513.777778</td>\n",
       "      <td>1081.679012</td>\n",
       "    </tr>\n",
       "    <tr>\n",
       "      <th>5</th>\n",
       "      <td>15</td>\n",
       "      <td>35</td>\n",
       "      <td>-12.333333</td>\n",
       "      <td>-22.111111</td>\n",
       "      <td>272.703704</td>\n",
       "      <td>152.111111</td>\n",
       "      <td>488.901235</td>\n",
       "    </tr>\n",
       "    <tr>\n",
       "      <th>6</th>\n",
       "      <td>22</td>\n",
       "      <td>12</td>\n",
       "      <td>-5.333333</td>\n",
       "      <td>-45.111111</td>\n",
       "      <td>240.592593</td>\n",
       "      <td>28.444444</td>\n",
       "      <td>2035.012346</td>\n",
       "    </tr>\n",
       "    <tr>\n",
       "      <th>7</th>\n",
       "      <td>24</td>\n",
       "      <td>57</td>\n",
       "      <td>-3.333333</td>\n",
       "      <td>-0.111111</td>\n",
       "      <td>0.370370</td>\n",
       "      <td>11.111111</td>\n",
       "      <td>0.012346</td>\n",
       "    </tr>\n",
       "    <tr>\n",
       "      <th>8</th>\n",
       "      <td>35</td>\n",
       "      <td>80</td>\n",
       "      <td>7.666667</td>\n",
       "      <td>22.888889</td>\n",
       "      <td>175.481481</td>\n",
       "      <td>58.777778</td>\n",
       "      <td>523.901235</td>\n",
       "    </tr>\n",
       "  </tbody>\n",
       "</table>\n",
       "</div>"
      ],
      "text/plain": [
       "   hours  scores          x          y         x*y         x^2          y^2\n",
       "0     10      40 -17.333333 -17.111111  296.592593  300.444444   292.790123\n",
       "1     20      50  -7.333333  -7.111111   52.148148   53.777778    50.567901\n",
       "2     30      70   2.666667  12.888889   34.370370    7.111111   166.123457\n",
       "3     40      80  12.666667  22.888889  289.925926  160.444444   523.901235\n",
       "4     50      90  22.666667  32.888889  745.481481  513.777778  1081.679012\n",
       "5     15      35 -12.333333 -22.111111  272.703704  152.111111   488.901235\n",
       "6     22      12  -5.333333 -45.111111  240.592593   28.444444  2035.012346\n",
       "7     24      57  -3.333333  -0.111111    0.370370   11.111111     0.012346\n",
       "8     35      80   7.666667  22.888889  175.481481   58.777778   523.901235"
      ]
     },
     "execution_count": 26,
     "metadata": {},
     "output_type": "execute_result"
    }
   ],
   "source": [
    "df[\"x\"] = df[\"hours\"] - x_mean\n",
    "df[\"y\"] = df[\"scores\"] - y_mean\n",
    "df[\"x*y\"] = df[\"x\"] * df[\"y\"]\n",
    "df[\"x^2\"] = df[\"x\"]**2\n",
    "df[\"y^2\"] = df[\"y\"]**2\n",
    "df"
   ]
  },
  {
   "cell_type": "code",
   "execution_count": 27,
   "id": "377f6a5a",
   "metadata": {},
   "outputs": [
    {
     "name": "stdout",
     "output_type": "stream",
     "text": [
      "2107.6666666666665 1286.0 5162.888888888889\n"
     ]
    }
   ],
   "source": [
    "summation_x_y = df[\"x*y\"].sum()\n",
    "summation_x_squared = df[\"x^2\"].sum()\n",
    "summation_y_squared = df[\"y^2\"].sum()\n",
    "print(summation_x_y, summation_x_squared, summation_y_squared)"
   ]
  },
  {
   "cell_type": "code",
   "execution_count": 28,
   "id": "e50b446b",
   "metadata": {},
   "outputs": [
    {
     "data": {
      "text/plain": [
       "0.8179656262122157"
      ]
     },
     "execution_count": 28,
     "metadata": {},
     "output_type": "execute_result"
    }
   ],
   "source": [
    "correlation = summation_x_y / (summation_x_squared * summation_y_squared)**0.5\n",
    "correlation"
   ]
  },
  {
   "cell_type": "code",
   "execution_count": 29,
   "id": "923e0534",
   "metadata": {},
   "outputs": [],
   "source": [
    "def getMean(numbers):\n",
    "    if len(numbers) == 0:\n",
    "        return None\n",
    "    else:\n",
    "        current_sum = 0\n",
    "        for i in numbers:\n",
    "            current_sum += i\n",
    "            current_avg = current_sum/len(numbers)\n",
    "        return current_avg"
   ]
  },
  {
   "cell_type": "code",
   "execution_count": 30,
   "id": "d7ac1d64",
   "metadata": {},
   "outputs": [],
   "source": [
    "def getStandardDeviation(numbers):\n",
    "    if len(numbers) == 0:\n",
    "        return 0\n",
    "    else:\n",
    "        mean = getMean(numbers)\n",
    "        std_deviation = 0\n",
    "        for i in numbers:\n",
    "            std_deviation += (i - mean)**2\n",
    "        return (std_deviation/len(numbers))**0.5"
   ]
  },
  {
   "cell_type": "code",
   "execution_count": 32,
   "id": "43825fa3",
   "metadata": {},
   "outputs": [
    {
     "name": "stdout",
     "output_type": "stream",
     "text": [
      "11.953614051360738 23.951081833346365\n"
     ]
    }
   ],
   "source": [
    "std_deviation_x = getStandardDeviation(df[\"x\"].tolist())\n",
    "std_deviation_y = getStandardDeviation(df[\"y\"].tolist())\n",
    "print(std_deviation_x, std_deviation_y)"
   ]
  },
  {
   "cell_type": "code",
   "execution_count": 33,
   "id": "c4bfcacf",
   "metadata": {},
   "outputs": [
    {
     "data": {
      "text/plain": [
       "1.6389320891653705"
      ]
     },
     "execution_count": 33,
     "metadata": {},
     "output_type": "execute_result"
    }
   ],
   "source": [
    "m = correlation * (std_deviation_y / std_deviation_x)\n",
    "m"
   ]
  },
  {
   "cell_type": "code",
   "execution_count": 34,
   "id": "74289f6e",
   "metadata": {},
   "outputs": [
    {
     "data": {
      "text/plain": [
       "12.313634007257654"
      ]
     },
     "execution_count": 34,
     "metadata": {},
     "output_type": "execute_result"
    }
   ],
   "source": [
    "c = df[\"scores\"].mean() - m * df[\"hours\"].mean()\n",
    "c"
   ]
  },
  {
   "cell_type": "code",
   "execution_count": 35,
   "id": "5b2b3cc5",
   "metadata": {},
   "outputs": [
    {
     "data": {
      "text/html": [
       "<div>\n",
       "<style scoped>\n",
       "    .dataframe tbody tr th:only-of-type {\n",
       "        vertical-align: middle;\n",
       "    }\n",
       "\n",
       "    .dataframe tbody tr th {\n",
       "        vertical-align: top;\n",
       "    }\n",
       "\n",
       "    .dataframe thead th {\n",
       "        text-align: right;\n",
       "    }\n",
       "</style>\n",
       "<table border=\"1\" class=\"dataframe\">\n",
       "  <thead>\n",
       "    <tr style=\"text-align: right;\">\n",
       "      <th></th>\n",
       "      <th>hours</th>\n",
       "      <th>scores</th>\n",
       "      <th>x</th>\n",
       "      <th>y</th>\n",
       "      <th>x*y</th>\n",
       "      <th>x^2</th>\n",
       "      <th>y^2</th>\n",
       "      <th>y_prediction</th>\n",
       "    </tr>\n",
       "  </thead>\n",
       "  <tbody>\n",
       "    <tr>\n",
       "      <th>0</th>\n",
       "      <td>10</td>\n",
       "      <td>40</td>\n",
       "      <td>-17.333333</td>\n",
       "      <td>-17.111111</td>\n",
       "      <td>296.592593</td>\n",
       "      <td>300.444444</td>\n",
       "      <td>292.790123</td>\n",
       "      <td>28.702955</td>\n",
       "    </tr>\n",
       "    <tr>\n",
       "      <th>1</th>\n",
       "      <td>20</td>\n",
       "      <td>50</td>\n",
       "      <td>-7.333333</td>\n",
       "      <td>-7.111111</td>\n",
       "      <td>52.148148</td>\n",
       "      <td>53.777778</td>\n",
       "      <td>50.567901</td>\n",
       "      <td>45.092276</td>\n",
       "    </tr>\n",
       "    <tr>\n",
       "      <th>2</th>\n",
       "      <td>30</td>\n",
       "      <td>70</td>\n",
       "      <td>2.666667</td>\n",
       "      <td>12.888889</td>\n",
       "      <td>34.370370</td>\n",
       "      <td>7.111111</td>\n",
       "      <td>166.123457</td>\n",
       "      <td>61.481597</td>\n",
       "    </tr>\n",
       "    <tr>\n",
       "      <th>3</th>\n",
       "      <td>40</td>\n",
       "      <td>80</td>\n",
       "      <td>12.666667</td>\n",
       "      <td>22.888889</td>\n",
       "      <td>289.925926</td>\n",
       "      <td>160.444444</td>\n",
       "      <td>523.901235</td>\n",
       "      <td>77.870918</td>\n",
       "    </tr>\n",
       "    <tr>\n",
       "      <th>4</th>\n",
       "      <td>50</td>\n",
       "      <td>90</td>\n",
       "      <td>22.666667</td>\n",
       "      <td>32.888889</td>\n",
       "      <td>745.481481</td>\n",
       "      <td>513.777778</td>\n",
       "      <td>1081.679012</td>\n",
       "      <td>94.260238</td>\n",
       "    </tr>\n",
       "    <tr>\n",
       "      <th>5</th>\n",
       "      <td>15</td>\n",
       "      <td>35</td>\n",
       "      <td>-12.333333</td>\n",
       "      <td>-22.111111</td>\n",
       "      <td>272.703704</td>\n",
       "      <td>152.111111</td>\n",
       "      <td>488.901235</td>\n",
       "      <td>36.897615</td>\n",
       "    </tr>\n",
       "    <tr>\n",
       "      <th>6</th>\n",
       "      <td>22</td>\n",
       "      <td>12</td>\n",
       "      <td>-5.333333</td>\n",
       "      <td>-45.111111</td>\n",
       "      <td>240.592593</td>\n",
       "      <td>28.444444</td>\n",
       "      <td>2035.012346</td>\n",
       "      <td>48.370140</td>\n",
       "    </tr>\n",
       "    <tr>\n",
       "      <th>7</th>\n",
       "      <td>24</td>\n",
       "      <td>57</td>\n",
       "      <td>-3.333333</td>\n",
       "      <td>-0.111111</td>\n",
       "      <td>0.370370</td>\n",
       "      <td>11.111111</td>\n",
       "      <td>0.012346</td>\n",
       "      <td>51.648004</td>\n",
       "    </tr>\n",
       "    <tr>\n",
       "      <th>8</th>\n",
       "      <td>35</td>\n",
       "      <td>80</td>\n",
       "      <td>7.666667</td>\n",
       "      <td>22.888889</td>\n",
       "      <td>175.481481</td>\n",
       "      <td>58.777778</td>\n",
       "      <td>523.901235</td>\n",
       "      <td>69.676257</td>\n",
       "    </tr>\n",
       "  </tbody>\n",
       "</table>\n",
       "</div>"
      ],
      "text/plain": [
       "   hours  scores          x          y         x*y         x^2          y^2  \\\n",
       "0     10      40 -17.333333 -17.111111  296.592593  300.444444   292.790123   \n",
       "1     20      50  -7.333333  -7.111111   52.148148   53.777778    50.567901   \n",
       "2     30      70   2.666667  12.888889   34.370370    7.111111   166.123457   \n",
       "3     40      80  12.666667  22.888889  289.925926  160.444444   523.901235   \n",
       "4     50      90  22.666667  32.888889  745.481481  513.777778  1081.679012   \n",
       "5     15      35 -12.333333 -22.111111  272.703704  152.111111   488.901235   \n",
       "6     22      12  -5.333333 -45.111111  240.592593   28.444444  2035.012346   \n",
       "7     24      57  -3.333333  -0.111111    0.370370   11.111111     0.012346   \n",
       "8     35      80   7.666667  22.888889  175.481481   58.777778   523.901235   \n",
       "\n",
       "   y_prediction  \n",
       "0     28.702955  \n",
       "1     45.092276  \n",
       "2     61.481597  \n",
       "3     77.870918  \n",
       "4     94.260238  \n",
       "5     36.897615  \n",
       "6     48.370140  \n",
       "7     51.648004  \n",
       "8     69.676257  "
      ]
     },
     "execution_count": 35,
     "metadata": {},
     "output_type": "execute_result"
    }
   ],
   "source": [
    "df[\"y_prediction\"] = m * df[\"hours\"] + c\n",
    "df"
   ]
  },
  {
   "cell_type": "code",
   "execution_count": 36,
   "id": "111037ea",
   "metadata": {},
   "outputs": [
    {
     "data": {
      "image/png": "[encoded data removed]",
      "text/plain": [
       "<Figure size 432x288 with 1 Axes>"
      ]
     },
     "metadata": {
      "needs_background": "light"
     },
     "output_type": "display_data"
    }
   ],
   "source": [
    "plot1 = plt.scatter(df[\"hours\"], df[\"scores\"])\n",
    "plot2 = plt.scatter(df[\"hours\"], df[\"y_prediction\"])\n",
    "plt.show()"
   ]
  },
  {
   "cell_type": "code",
   "execution_count": null,
   "id": "7cc433c3",
   "metadata": {},
   "outputs": [],
   "source": []
  },
  {
   "cell_type": "code",
   "execution_count": null,
   "id": "d96cd0c3",
   "metadata": {},
   "outputs": [],
   "source": []
  }
 ],
 "metadata": {
  "kernelspec": {
   "display_name": "Python 3 (ipykernel)",
   "language": "python",
   "name": "python3"
  },
  "language_info": {
   "codemirror_mode": {
    "name": "ipython",
    "version": 3
   },
   "file_extension": ".py",
   "mimetype": "text/x-python",
   "name": "python",
   "nbconvert_exporter": "python",
   "pygments_lexer": "ipython3",
   "version": "3.10.6"
  }
 },
 "nbformat": 4,
 "nbformat_minor": 5
}
