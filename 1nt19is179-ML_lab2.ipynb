{
 "cells": [
  {
   "cell_type": "code",
   "execution_count": 1,
   "metadata": {},
   "outputs": [
    {
     "name": "stdout",
     "output_type": "stream",
     "text": [
      "115.3,195.5,120.5,110.2,90.4,105.6,110.9,116.3,122.3,125.4\n",
      "0.23691722169362506, 1.0, 0.2863939105613701, 0.18839200761179828, 0.0, 0.14462416745956222, 0.1950523311132255, 0.24643196955280677, 0.3035204567078972, 0.3330161750713606\n"
     ]
    }
   ],
   "source": [
    "# normaization\n",
    "\n",
    "l=list(map(float,input().split(\",\")))\n",
    "min1=min(l)\n",
    "r=max(l)-min(l)\n",
    "for i in range(len(l)):\n",
    "    l[i]=(l[i]-min1)/r\n",
    "    \n",
    "print(\", \".join(map(str,l))) \n",
    "\n"
   ]
  },
  {
   "cell_type": "code",
   "execution_count": 2,
   "metadata": {},
   "outputs": [
    {
     "name": "stdout",
     "output_type": "stream",
     "text": [
      "115.3,195.5,120.5,110.2,90.4,105.6,110.9,116.3,122.3,125.4\n",
      "-0.21272060415267083, 1.5598146180553438, -0.015331911152254976, -0.20247493850281453, -0.528292093801168, -0.25485975149882134, -0.16841809419969445, -0.08424196041738916, 0.020297564739222097, 0.10490473914889364\n"
     ]
    }
   ],
   "source": [
    "#stdization\n",
    "\n",
    "from statistics import stdev\n",
    "l=list(map(float,input().split(\",\")))\n",
    "m=sum(l)/len(l)\n",
    "for i in range(len(l)):\n",
    "    l[i]=(l[i]-m)/stdev(l)\n",
    "    \n",
    "print(\", \".join(map(str,l))) "
   ]
  },
  {
   "cell_type": "code",
   "execution_count": null,
   "metadata": {},
   "outputs": [],
   "source": []
  }
 ],
 "metadata": {
  "kernelspec": {
   "display_name": "Python 3",
   "language": "python",
   "name": "python3"
  },
  "language_info": {
   "codemirror_mode": {
    "name": "ipython",
    "version": 3
   },
   "file_extension": ".py",
   "mimetype": "text/x-python",
   "name": "python",
   "nbconvert_exporter": "python",
   "pygments_lexer": "ipython3",
   "version": "3.8.10"
  }
 },
 "nbformat": 4,
 "nbformat_minor": 4
}
